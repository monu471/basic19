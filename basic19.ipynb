{
 "cells": [
  {
   "cell_type": "markdown",
   "id": "5ddca3f7",
   "metadata": {},
   "source": [
    "#### 1. Make a class called Thing with no contents and print it. Then, create an object called examplefrom this class and also print it. Are the printed values the same or different?"
   ]
  },
  {
   "cell_type": "code",
   "execution_count": 1,
   "id": "4eee86b0",
   "metadata": {},
   "outputs": [],
   "source": [
    "class Thing:\n",
    "    def __init__(self):\n",
    "        pass"
   ]
  },
  {
   "cell_type": "code",
   "execution_count": 5,
   "id": "4d20f763",
   "metadata": {},
   "outputs": [
    {
     "name": "stdout",
     "output_type": "stream",
     "text": [
      "<__main__.Thing object at 0x00000293D9042440>\n",
      "<__main__.Thing object at 0x00000293D9040F10>\n"
     ]
    }
   ],
   "source": [
    "example = Thing()\n",
    "print(Thing())\n",
    "print(example) \n",
    "### output is different because the  class and the object store into differnt location"
   ]
  },
  {
   "cell_type": "markdown",
   "id": "51e6553c",
   "metadata": {},
   "source": [
    "#### 2. Create a new class called Thing2 and add the value &#39;abc&#39; to the letters class attribute. Lettersshould be printed."
   ]
  },
  {
   "cell_type": "code",
   "execution_count": 7,
   "id": "d9de64d1",
   "metadata": {},
   "outputs": [],
   "source": [
    "class Thing2:\n",
    "    def __init__(self):\n",
    "        self.letter = \"abc\""
   ]
  },
  {
   "cell_type": "code",
   "execution_count": 8,
   "id": "697e13a6",
   "metadata": {},
   "outputs": [
    {
     "name": "stdout",
     "output_type": "stream",
     "text": [
      "abc\n"
     ]
    }
   ],
   "source": [
    "a = Thing2()\n",
    "print(a.letter)"
   ]
  },
  {
   "cell_type": "markdown",
   "id": "f10fceda",
   "metadata": {},
   "source": [
    "### 3. Make yet another class called, of course, Thing3. This time, assign the value &#39;xyz; to an instance(object) attribute called letters. Print letters. Do you need to make an object from the class to dothis?"
   ]
  },
  {
   "cell_type": "code",
   "execution_count": 10,
   "id": "c1506082",
   "metadata": {},
   "outputs": [],
   "source": [
    "class thing3:\n",
    "    letter = \"xyz\""
   ]
  },
  {
   "cell_type": "code",
   "execution_count": 14,
   "id": "cf8afdeb",
   "metadata": {},
   "outputs": [
    {
     "name": "stdout",
     "output_type": "stream",
     "text": [
      "xyz\n"
     ]
    }
   ],
   "source": [
    "b = thing3()\n",
    "print(b.letter)"
   ]
  },
  {
   "cell_type": "code",
   "execution_count": 15,
   "id": "57e126c0",
   "metadata": {},
   "outputs": [],
   "source": [
    "### yes we need to create a object to print the letter"
   ]
  },
  {
   "cell_type": "markdown",
   "id": "74e1a475",
   "metadata": {},
   "source": [
    "### 4. Create an Element class with the instance attributes name, symbol, and number. Create a classobject with the values &#39;Hydrogen,&#39; &#39;H,&#39; and 1.\n"
   ]
  },
  {
   "cell_type": "code",
   "execution_count": 29,
   "id": "831d1446",
   "metadata": {},
   "outputs": [],
   "source": [
    "class Element:\n",
    "    def __init__(self,element,symbol,number):\n",
    "        self.element = element\n",
    "        self.symbol = symbol\n",
    "        self.number = number\n",
    "    "
   ]
  },
  {
   "cell_type": "code",
   "execution_count": 30,
   "id": "48b9cc03",
   "metadata": {},
   "outputs": [],
   "source": [
    "ele = Element(\"hydrogen\",\"H\",1)"
   ]
  },
  {
   "cell_type": "code",
   "execution_count": 18,
   "id": "b4e29208",
   "metadata": {},
   "outputs": [
    {
     "data": {
      "text/plain": [
       "'hydrogen'"
      ]
     },
     "execution_count": 18,
     "metadata": {},
     "output_type": "execute_result"
    }
   ],
   "source": [
    "ele.element"
   ]
  },
  {
   "cell_type": "code",
   "execution_count": 22,
   "id": "f504e454",
   "metadata": {},
   "outputs": [],
   "source": [
    "from dataclasses import dataclass\n",
    "@dataclass\n",
    "class Element:\n",
    "    element:str\n",
    "    symbol :str\n",
    "    number:int \n",
    "        "
   ]
  },
  {
   "cell_type": "code",
   "execution_count": 21,
   "id": "b82472d7",
   "metadata": {},
   "outputs": [
    {
     "data": {
      "text/plain": [
       "12"
      ]
     },
     "execution_count": 21,
     "metadata": {},
     "output_type": "execute_result"
    }
   ],
   "source": [
    "ele1 = Element(\"calcium\",\"ca\",12)\n",
    "ele1.number"
   ]
  },
  {
   "cell_type": "markdown",
   "id": "f2fc3eb7",
   "metadata": {},
   "source": [
    "#### 5. Make a dictionary with these keys and values: &#39;name&#39;: &#39;Hydrogen&#39;, &#39;symbol&#39;: &#39;H&#39;, &#39;number&#39;: 1. Then,create an object called hydrogen from class Element using this dictionary."
   ]
  },
  {
   "cell_type": "code",
   "execution_count": 31,
   "id": "313e58de",
   "metadata": {},
   "outputs": [
    {
     "name": "stdout",
     "output_type": "stream",
     "text": [
      "Hydrogen\n",
      "H\n",
      "1\n"
     ]
    }
   ],
   "source": [
    "class Element:\n",
    "    def __init__(self, name, symbol, number):\n",
    "        self.name = name\n",
    "        self.symbol = symbol\n",
    "        self.number = number\n",
    "\n",
    "# Create a dictionary with the keys and values\n",
    "element_dict = {\n",
    "    'name': 'Hydrogen',\n",
    "    'symbol': 'H',\n",
    "    'number': 1\n",
    "}\n",
    "\n",
    "# Create an object of the Element class using the dictionary\n",
    "hydrogen = Element(**element_dict)\n",
    "\n",
    "# Print the attributes of the hydrogen object\n",
    "print(hydrogen.name)\n",
    "print(hydrogen.symbol)\n",
    "print(hydrogen.number)\n"
   ]
  },
  {
   "cell_type": "markdown",
   "id": "682325a2",
   "metadata": {},
   "source": [
    "#### 6. For the Element class, define a method called dump() that prints the values of the object’sattributes (name, symbol, and number). Create the hydrogen object from this new definition anduse dump() to print its attributes."
   ]
  },
  {
   "cell_type": "code",
   "execution_count": 40,
   "id": "fc1b4347",
   "metadata": {},
   "outputs": [],
   "source": [
    "class Element:\n",
    "    def __init__(self, name, symbol, number):\n",
    "        self.name = name\n",
    "        self.symbol = symbol\n",
    "        self.number = number\n",
    "        \n",
    "    def dump(self):\n",
    "        return self.__dict__.items() \n"
   ]
  },
  {
   "cell_type": "code",
   "execution_count": 36,
   "id": "f6e65d0b",
   "metadata": {},
   "outputs": [],
   "source": [
    "hydrogen = Element(\"hd\",\"h\",1)\n"
   ]
  },
  {
   "cell_type": "markdown",
   "id": "d57d86db",
   "metadata": {},
   "source": [
    "#### 7. Call print(hydrogen). In the definition of Element, change the name of method dump to __str__,create a new hydrogen object, and call print(hydrogen) again."
   ]
  },
  {
   "cell_type": "code",
   "execution_count": 41,
   "id": "96f221b2",
   "metadata": {},
   "outputs": [],
   "source": [
    "class Element:\n",
    "    def __init__(self, name, symbol, number):\n",
    "        self.name = name\n",
    "        self.symbol = symbol\n",
    "        self.number = number\n",
    "        \n",
    "    def __str__(self):\n",
    "        return f\"name:{self.name}\\nsymbol:{self.symbol}\\nnumber:{self.number}\"\n",
    "    "
   ]
  },
  {
   "cell_type": "code",
   "execution_count": 42,
   "id": "71a54d55",
   "metadata": {},
   "outputs": [
    {
     "name": "stdout",
     "output_type": "stream",
     "text": [
      "name:ddkhd\n",
      "symbol:ah\n",
      "number:123\n"
     ]
    }
   ],
   "source": [
    "ele12 = Element(\"ddkhd\",\"ah\",123)\n",
    "print(ele12)"
   ]
  },
  {
   "cell_type": "markdown",
   "id": "5b08628a",
   "metadata": {},
   "source": [
    "#### 8. Modify Element to make the attributes name, symbol, and number private. Define a getterproperty for each to return its value."
   ]
  },
  {
   "cell_type": "code",
   "execution_count": 11,
   "id": "09d42bc5",
   "metadata": {},
   "outputs": [],
   "source": [
    "class Element:\n",
    "    def __init__(self, name, symbol, number):\n",
    "        self.__name = name\n",
    "        self.__symbol = symbol\n",
    "        self.__number = number\n",
    "    def get_name(self):\n",
    "        return self._Element__name\n",
    "    def get_symbol(self):\n",
    "        return self._Element__symbol\n",
    "    def get_number(self):\n",
    "        return self._Element__number"
   ]
  },
  {
   "cell_type": "code",
   "execution_count": 12,
   "id": "31e2eba8",
   "metadata": {},
   "outputs": [],
   "source": [
    "obj = Element(\"Hydrogn\",\"H\",1)"
   ]
  },
  {
   "cell_type": "code",
   "execution_count": 14,
   "id": "1040edad",
   "metadata": {},
   "outputs": [
    {
     "data": {
      "text/plain": [
       "'Hydrogn'"
      ]
     },
     "execution_count": 14,
     "metadata": {},
     "output_type": "execute_result"
    }
   ],
   "source": [
    "obj.get_name()"
   ]
  },
  {
   "cell_type": "code",
   "execution_count": null,
   "id": "df13abca",
   "metadata": {},
   "outputs": [],
   "source": []
  },
  {
   "cell_type": "markdown",
   "id": "d664cb42",
   "metadata": {},
   "source": [
    "##### 9. Define three classes: Bear, Rabbit, and Octothorpe. For each, define only one method: eats(). Thisshould return &#39;berries&#39; (Bear), &#39;clover&#39; (Rabbit), or &#39;campers&#39; (Octothorpe). Create one object fromeach and print what it eats."
   ]
  },
  {
   "cell_type": "code",
   "execution_count": 15,
   "id": "256e966b",
   "metadata": {},
   "outputs": [],
   "source": [
    "class Bear:\n",
    "    def eats(self):\n",
    "        return 'berries'\n",
    "\n",
    "class Rabbit:\n",
    "    def eats(self):\n",
    "        return 'clover'\n",
    "\n",
    "class Octothorpe:\n",
    "    def eats(self):\n",
    "        return 'campers'\n"
   ]
  },
  {
   "cell_type": "markdown",
   "id": "175cc2bf",
   "metadata": {},
   "source": [
    "#### 10. Define these classes: Laser, Claw, and SmartPhone. Each has only one method: does(). Thireturns &#39;disintegrate&#39; (Laser), &#39;crush&#39; (Claw), or &#39;ring&#39; (SmartPhone). Then, define the class Robot thathas one instance (object) of each of these. Define a does() method for the Robot that prints what itscomponent objects do."
   ]
  },
  {
   "cell_type": "code",
   "execution_count": 40,
   "id": "a680bf94",
   "metadata": {},
   "outputs": [],
   "source": [
    "class laser:\n",
    "    def does(self):\n",
    "        return \"disintegrate\"\n",
    "class claw:\n",
    "    def does(self):\n",
    "        return \"crush\"\n",
    "class smartphone:\n",
    "    def does(self):\n",
    "        return \"rings\"\n",
    "class Robot:\n",
    "    def __init__(self):\n",
    "            self.laser = laser()\n",
    "            self.claw = claw()\n",
    "            self.smartphone = smartphone()\n",
    "    def does(self):\n",
    "        print(\"Laser does:\", self.laser.does())\n",
    "        print(\"Claw does:\", self.claw.does())\n",
    "        print(\"SmartPhone does:\", self.smartphone.does())\n",
    "        \n",
    "    \n",
    "\n",
    "            "
   ]
  },
  {
   "cell_type": "code",
   "execution_count": 41,
   "id": "0d8d242e",
   "metadata": {},
   "outputs": [
    {
     "name": "stdout",
     "output_type": "stream",
     "text": [
      "Laser does: disintegrate\n",
      "Claw does: crush\n",
      "SmartPhone does: rings\n"
     ]
    }
   ],
   "source": [
    "a = Robot()\n",
    "a.does()"
   ]
  },
  {
   "cell_type": "code",
   "execution_count": 42,
   "id": "208d6fc0",
   "metadata": {},
   "outputs": [],
   "source": [
    "class Laser:\n",
    "    def does(self):\n",
    "        return 'disintegrate'\n",
    "\n",
    "class Claw:\n",
    "    def does(self):\n",
    "        return 'crush'\n",
    "\n",
    "class SmartPhone:\n",
    "    def does(self):\n",
    "        return 'ring'\n",
    "\n",
    "class Robot(Laser, Claw, SmartPhone):\n",
    "    def does(self):\n",
    "        print(\"Laser does:\", super().does())\n",
    "        print(\"Claw does:\", super().does())\n",
    "        print(\"SmartPhone does:\", super().does())\n"
   ]
  },
  {
   "cell_type": "code",
   "execution_count": 44,
   "id": "bbcbbefc",
   "metadata": {},
   "outputs": [
    {
     "name": "stdout",
     "output_type": "stream",
     "text": [
      "Laser does: disintegrate\n",
      "Claw does: disintegrate\n",
      "SmartPhone does: disintegrate\n"
     ]
    }
   ],
   "source": [
    "b = Robot()\n",
    "b.does()"
   ]
  },
  {
   "cell_type": "code",
   "execution_count": null,
   "id": "e896775e",
   "metadata": {},
   "outputs": [],
   "source": []
  }
 ],
 "metadata": {
  "kernelspec": {
   "display_name": "Python 3 (ipykernel)",
   "language": "python",
   "name": "python3"
  },
  "language_info": {
   "codemirror_mode": {
    "name": "ipython",
    "version": 3
   },
   "file_extension": ".py",
   "mimetype": "text/x-python",
   "name": "python",
   "nbconvert_exporter": "python",
   "pygments_lexer": "ipython3",
   "version": "3.10.9"
  }
 },
 "nbformat": 4,
 "nbformat_minor": 5
}
